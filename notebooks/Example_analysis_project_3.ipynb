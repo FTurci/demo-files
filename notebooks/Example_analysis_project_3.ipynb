{
 "cells": [
  {
   "cell_type": "markdown",
   "metadata": {
    "nbgrader": {
     "grade": false,
     "grade_id": "cell-ac15007ac367d98b",
     "locked": true,
     "schema_version": 3,
     "solution": false,
     "task": false
    }
   },
   "source": [
    "# Project 3 - autograded project\n",
    "\n",
    "## Examining the geometry of molecules"
   ]
  },
  {
   "cell_type": "markdown",
   "metadata": {
    "nbgrader": {
     "grade": false,
     "grade_id": "cell-b1ee92f41d6817d6",
     "locked": true,
     "schema_version": 3,
     "solution": false,
     "task": false
    }
   },
   "source": [
    "Molecular geometry is the three-dimensional arrangement of atoms within a molecule. This geometry is often described by considering the lengths and angles of the bonds within the system. If we consider a central atom with 4 bonds to other atoms / molecules these are two of the three-dimensional shapes this system could take: either a **Square planar** shape or a **Tetrahedral** shape, both shown below.\n",
    "\n",
    "Square Planar\n",
    "\n",
    "![Square planar](Square-planar-shape-with-angle.png)\n",
    "\n",
    "Tetrahedral\n",
    "\n",
    "![Tetrahedral](Tetrahedral-shape-with-angle.png)\n",
    "\n",
    "Both the Square Planar and Tetrahedral shapes are symmetric when they are rotated (rotationally symmetric). In an ideal system:\n",
    " - For the square planar shape, each of the four bonds (along the plane) has an angle of $90^{\\mathrm{o}}$\n",
    " - For the tetrahedral shape, each of the four bonds has an angle of $109.5^{\\mathrm{o}}$"
   ]
  },
  {
   "cell_type": "markdown",
   "metadata": {
    "nbgrader": {
     "grade": false,
     "grade_id": "cell-5ebd6bb3bf52ddce",
     "locked": true,
     "schema_version": 3,
     "solution": false,
     "task": false
    }
   },
   "source": [
    "### Data files\n",
    "\n",
    "For this project, we have provided two data files containing the measured bond angles for different systems with a central atom and four surrounding bonds (to other atoms or molecules).\n",
    "1. With Rhodium (Rh) as the central atom\n",
    "2. With Cobalt (Co) as the central atom\n",
    "\n",
    "In both cases, we expect the majority of these systems to be either Square Planar (all angles of $90^{\\mathrm{o}}$) or Tetrahedral (all angles of $109.5^{\\mathrm{o}}$) in shape.\n",
    "\n",
    "First 5 rows of \"Rh_CN4-molecules.csv\"\n",
    "```\n",
    "# Missing entries are shown as -999 value.\n",
    "Query,Refcode,ANG1,ANG2,ANG3,ANG4,R-factor,Study Temp.\n",
    "1,ABANEX,86.286,91.877,91.402,90.744,4.110,150\n",
    "1,ABEJIA,98.505,100.045,83.356,79.567,4.160,120\n",
    "1,ABEJOG,100.686,99.261,78.550,82.795,3.910,120\n",
    "```\n",
    "\n",
    "First 5 rows of \"Co_CN4-molecules.csv\"\n",
    "```\n",
    "# Missing entries are shown as -999 value.\n",
    "Query,Refcode,ANG1,ANG2,ANG3,ANG4,R-factor,Study Temp.\n",
    "2,ABEBUG,107.775,104.241,106.684,115.986,2.920,150\n",
    "2,ABECER,119.168,107.584,103.463,105.580,4.860,150\n",
    "2,ABECIV,109.473,104.126,109.126,120.683,3.330,150\n",
    "```\n",
    "\n",
    "Column details:\n",
    " - \"Query\" - Database query number (*can ignore*)\n",
    " - \"Refcode\" - Reference code for the molecular structure\n",
    " - \"ANG1\", \"ANG2\", \"ANG3\", \"ANG4\" - Values in degrees for each of the four bond angles\n",
    " - \"R-factor\" - Reliability factor. This is a measure of the quality of the data where a lower value is better\n",
    " - \"Study Temp.\" - Temperature used when completing the measurements."
   ]
  },
  {
   "cell_type": "markdown",
   "metadata": {},
   "source": [
    "The overall aim of this project is to examine these data files and see how well these two different molecular shapes (Square Planar and Tetrahedral) can be distinguished within this data using the ideal angles."
   ]
  },
  {
   "cell_type": "markdown",
   "metadata": {},
   "source": [
    "---"
   ]
  },
  {
   "cell_type": "markdown",
   "metadata": {},
   "source": [
    "## Part 1 - overall properties\n",
    "\n",
    "The first part of this assessment deals with reading, manipulating and plotting the data to show the overall details for the bond angles.\n",
    "\n",
    "**Read the \"Rh_CN4-molecules.csv\" and \"Co\\_CN4-molecules.csv\" data sets, analyse the bond angles and plot the distributions.**\n",
    "\n",
    "***1. Using Python, read the data from these files considering the following:***\n",
    "  - How the data files are laid out and how best to read the data\n",
    "  - How to handle any missing data"
   ]
  },
  {
   "cell_type": "markdown",
   "metadata": {},
   "source": [
    "## Task 1\n",
    "\n",
    "Using `pandas`, complete the following code, defining"
   ]
  },
  {
   "cell_type": "code",
   "execution_count": 1,
   "metadata": {},
   "outputs": [],
   "source": [
    "import pandas as pd\n",
    "\n",
    "filename_Rh = \"Rh_CN4-molecules.csv\"\n",
    "filename_Co = \"Co_CN4-molecules.csv\"\n",
    "\n",
    "# Read in data:\n",
    "# - Take account of top header row (e.g. skiprows=1)\n",
    "# - Take account of missing values represented -999 (e.g. na_values=\"-999\")\n",
    "# - Set index to \"Refcode\" (optional but helps later on)\n",
    "df_rh = pd.read_csv(filename_Rh, skiprows=1, na_values=\"-999\", index_col=\"Refcode\")\n",
    "df_co = pd.read_csv(filename_Co, skiprows=1, na_values=\"-999\", index_col=\"Refcode\")"
   ]
  },
  {
   "cell_type": "markdown",
   "metadata": {},
   "source": [
    "***2. Consider the average and spread of the bond angles for both data sets***\n",
    "\n",
    "   - Calculate the mean for each molecule (row) across all four bond angle columns (i.e. total divided by 4). You may wish to add this as an additional column.\n",
    "   - For this new column (Series), calculate the mean and standard deviation to compare against the ideal angles for the Square Planar and Tetrahedral shapes. Use clear print statements and/or text (markdown) cells."
   ]
  },
  {
   "cell_type": "code",
   "execution_count": 2,
   "metadata": {},
   "outputs": [],
   "source": [
    "# Calculate the mean for each molecule (row) across all four bond angles\n",
    "df_rh[\"ANG_MEAN\"] = (df_rh[\"ANG1\"] + df_rh[\"ANG2\"] + df_rh[\"ANG3\"] + df_rh[\"ANG4\"])/4.\n",
    "df_co[\"ANG_MEAN\"] = (df_co[\"ANG1\"] + df_co[\"ANG2\"] + df_co[\"ANG3\"] + df_co[\"ANG4\"])/4."
   ]
  },
  {
   "cell_type": "code",
   "execution_count": 3,
   "metadata": {},
   "outputs": [],
   "source": [
    "# Define the ideal angles for the two shapes\n",
    "square_planar = 90\n",
    "tetrahedral = 109.5"
   ]
  },
  {
   "cell_type": "code",
   "execution_count": 4,
   "metadata": {},
   "outputs": [],
   "source": [
    "# Calculate mean and standard deviation for the average angle\n",
    "angle_mean_rh = df_rh[\"ANG_MEAN\"].mean()\n",
    "angle_std_rh = df_rh[\"ANG_MEAN\"].std()\n",
    "\n",
    "angle_mean_co = df_co[\"ANG_MEAN\"].mean()\n",
    "angle_std_co = df_co[\"ANG_MEAN\"].std()"
   ]
  },
  {
   "cell_type": "code",
   "execution_count": 5,
   "metadata": {},
   "outputs": [],
   "source": [
    "# Calculate the differences from the ideal angles\n",
    "diff_rh_square_planar = angle_mean_rh - square_planar\n",
    "diff_co_square_planar = angle_mean_co - square_planar\n",
    "\n",
    "diff_rh_tetrahedral = angle_mean_rh - tetrahedral\n",
    "diff_co_tetrahedral = angle_mean_co - tetrahedral"
   ]
  },
  {
   "cell_type": "code",
   "execution_count": 6,
   "metadata": {},
   "outputs": [
    {
     "data": {
      "text/html": [
       "<div>\n",
       "<style scoped>\n",
       "    .dataframe tbody tr th:only-of-type {\n",
       "        vertical-align: middle;\n",
       "    }\n",
       "\n",
       "    .dataframe tbody tr th {\n",
       "        vertical-align: top;\n",
       "    }\n",
       "\n",
       "    .dataframe thead th {\n",
       "        text-align: right;\n",
       "    }\n",
       "</style>\n",
       "<table border=\"1\" class=\"dataframe\">\n",
       "  <thead>\n",
       "    <tr style=\"text-align: right;\">\n",
       "      <th></th>\n",
       "      <th>Mean</th>\n",
       "      <th>Standard deviation</th>\n",
       "      <th>Square planar (diff)</th>\n",
       "      <th>Tetrahedral (diff)</th>\n",
       "    </tr>\n",
       "  </thead>\n",
       "  <tbody>\n",
       "    <tr>\n",
       "      <th>Rh molecules</th>\n",
       "      <td>90.194989</td>\n",
       "      <td>1.350200</td>\n",
       "      <td>0.194989</td>\n",
       "      <td>-19.305011</td>\n",
       "    </tr>\n",
       "    <tr>\n",
       "      <th>Co molecules</th>\n",
       "      <td>105.116587</td>\n",
       "      <td>7.865554</td>\n",
       "      <td>15.116587</td>\n",
       "      <td>-4.383413</td>\n",
       "    </tr>\n",
       "  </tbody>\n",
       "</table>\n",
       "</div>"
      ],
      "text/plain": [
       "                    Mean  Standard deviation  Square planar (diff)  \\\n",
       "Rh molecules   90.194989            1.350200              0.194989   \n",
       "Co molecules  105.116587            7.865554             15.116587   \n",
       "\n",
       "              Tetrahedral (diff)  \n",
       "Rh molecules          -19.305011  \n",
       "Co molecules           -4.383413  "
      ]
     },
     "execution_count": 6,
     "metadata": {},
     "output_type": "execute_result"
    }
   ],
   "source": [
    "# OPTIONAL - creating a DataFrame to display this in a nicely formatted table\n",
    "comparison_dict = {\"Mean\":[angle_mean_rh, angle_mean_co], \n",
    "                   \"Standard deviation\": [angle_std_rh, angle_std_co],\n",
    "                   \"Square planar (diff)\": [diff_rh_square_planar, diff_co_square_planar],\n",
    "                   \"Tetrahedral (diff)\": [diff_rh_tetrahedral, diff_co_tetrahedral]}\n",
    "\n",
    "comparison_df = pd.DataFrame(comparison_dict, index=[\"Rh molecules\",\"Co molecules\"])\n",
    "comparison_df"
   ]
  },
  {
   "cell_type": "markdown",
   "metadata": {},
   "source": [
    "**Discussion**:\n",
    "\n",
    "From comparison to the mean bond angle, our Rhodium molecules seem closest to the ideal angle for a Square Planar shape. For our Cobalt molecules these seem closest to the ideal angle for a Tetrahedral shape but this does show more spread in the data (standard deviation of 7.9 compared to 1.4 for Rhodium)."
   ]
  },
  {
   "cell_type": "markdown",
   "metadata": {},
   "source": [
    "***3. From these data sets, create at least one plot to show the distribution of these bond angles for both data sets considering:***\n",
    "   - How to present this data in a clear way\n",
    "   - How to make sure the plot(s) are self-contained and include all the relevant information"
   ]
  },
  {
   "cell_type": "code",
   "execution_count": 7,
   "metadata": {},
   "outputs": [
    {
     "data": {
      "text/plain": [
       "Text(0.5, 0, 'Mean angle ($^o$)')"
      ]
     },
     "execution_count": 7,
     "metadata": {},
     "output_type": "execute_result"
    },
    {
     "data": {
      "image/png": "[encoded data removed]",
      "text/plain": [
       "<Figure size 720x432 with 1 Axes>"
      ]
     },
     "metadata": {
      "needs_background": "light"
     },
     "output_type": "display_data"
    }
   ],
   "source": [
    "import matplotlib.pyplot as plt\n",
    "\n",
    "fig, ax = plt.subplots(figsize=(10, 6))\n",
    "\n",
    "## Plot histograms for Rh vs Co for the mean bond angle\n",
    "# - Choosing consistent number of bins for both inputs (Rh and Co)\n",
    "# - Plotting as a density to allow for a consistent comparison between Rh and Co\n",
    "# - Choosing histtype of \"step\" for overlapping histograms (could have chosen transparency)\n",
    "# - Making sure each data set is clearly labelled (legend)\n",
    "# - Labelling the axes (including LaTeX for superscript)\n",
    "\n",
    "num_bins=20\n",
    "\n",
    "df_rh.plot.hist(y=\"ANG_MEAN\", ax=ax, histtype=\"step\", density=True, bins=num_bins, label=\"Rh molecules\")\n",
    "df_co.plot.hist(y=\"ANG_MEAN\", ax=ax, histtype=\"step\", density=True, bins=num_bins, label=\"Co molecules\")\n",
    "\n",
    "ax.set_xlabel(\"Mean angle ($^o$)\") # Label x axis"
   ]
  },
  {
   "cell_type": "code",
   "execution_count": 8,
   "metadata": {},
   "outputs": [
    {
     "data": {
      "text/plain": [
       "Text(0.5, 0, 'Mean angle ($^o$)')"
      ]
     },
     "execution_count": 8,
     "metadata": {},
     "output_type": "execute_result"
    },
    {
     "data": {
      "image/png": "[encoded data removed]",
      "text/plain": [
       "<Figure size 720x432 with 1 Axes>"
      ]
     },
     "metadata": {
      "needs_background": "light"
     },
     "output_type": "display_data"
    }
   ],
   "source": [
    "# Optional - could plot Cobalt separately to see this more clearly\n",
    "import matplotlib.pyplot as plt\n",
    "\n",
    "fig, ax = plt.subplots(figsize=(10, 6))\n",
    "\n",
    "num_bins=25\n",
    "\n",
    "df_co.plot.hist(y=\"ANG_MEAN\", ax=ax, histtype=\"step\", density=True, bins=num_bins, color=\"C1\", label=\"Co molecules\")\n",
    "\n",
    "ax.set_xlabel(\"Mean angle ($^o$)\") # Label x axis"
   ]
  },
  {
   "cell_type": "markdown",
   "metadata": {},
   "source": [
    "---"
   ]
  },
  {
   "cell_type": "markdown",
   "metadata": {},
   "source": [
    "## Part 2 - individual molecules\n",
    "\n",
    "After looking at the properties of the data sets as a whole, we can consider what this could tell about each individual molecule.\n",
    "\n",
    "**Based on your analysis so far, decide on the most likely shape for individual molecules.**\n",
    "\n",
    "***1. Select the rows using the *Refcode* values for a set of molecules and predict their shape***\n",
    " - Use these Refcode values\n",
    "   - \"YIQQUK\" (Rh)\n",
    "   - \"ZOJPUJ01\" (Co)\n",
    "   - \"ICAYES\" (Co)\n",
    "   - \"ZABVIK\" (Co)\n",
    " - Based on the angles, comment on the likelihood of each of these molecules being Square planar or Tetrahedral. Use clear print statements and/or text (markdown) cells."
   ]
  },
  {
   "cell_type": "code",
   "execution_count": 9,
   "metadata": {},
   "outputs": [
    {
     "name": "stdout",
     "output_type": "stream",
     "text": [
      "Ref code: YIQQUK\n",
      "Query            1.00000\n",
      "ANG1            89.40700\n",
      "ANG2            90.51100\n",
      "ANG3            91.37200\n",
      "ANG4            88.69100\n",
      "R-factor         3.08000\n",
      "Study Temp.    296.00000\n",
      "ANG_MEAN        89.99525\n",
      "Name: YIQQUK, dtype: float64 \n",
      "\n",
      "Ref code: ZOJPUJ01\n",
      "Query            2.000\n",
      "ANG1            97.016\n",
      "ANG2           107.569\n",
      "ANG3            97.501\n",
      "ANG4           106.162\n",
      "R-factor         4.950\n",
      "Study Temp.    100.000\n",
      "ANG_MEAN       102.062\n",
      "Name: ZOJPUJ01, dtype: float64 \n",
      "\n",
      "Ref code: ICAYES\n",
      "Query            2.000\n",
      "ANG1           116.386\n",
      "ANG2           109.928\n",
      "ANG3           113.829\n",
      "ANG4           104.237\n",
      "R-factor         2.240\n",
      "Study Temp.    100.000\n",
      "ANG_MEAN       111.095\n",
      "Name: ICAYES, dtype: float64 \n",
      "\n",
      "Ref code: ZABVIK\n",
      "Query            2.00000\n",
      "ANG1            96.31200\n",
      "ANG2            86.19000\n",
      "ANG3            82.37700\n",
      "ANG4            95.20800\n",
      "R-factor         3.48000\n",
      "Study Temp.    130.00000\n",
      "ANG_MEAN        90.02175\n",
      "Name: ZABVIK, dtype: float64 \n",
      "\n"
     ]
    }
   ],
   "source": [
    "# Find the molecule (row) related to the reference code values\n",
    "rh_code = \"YIQQUK\"\n",
    "co_codes = [\"ZOJPUJ01\", \"ICAYES\", \"ZABVIK\"]\n",
    "\n",
    "rh_molecule_row = df_rh.loc[rh_code]\n",
    "print(f\"Ref code: {rh_code}\")\n",
    "print(rh_molecule_row, \"\\n\")\n",
    "\n",
    "for code in co_codes:\n",
    "    molecule_row = df_co.loc[code]\n",
    "    print(f\"Ref code: {code}\")\n",
    "    print(molecule_row, \"\\n\")"
   ]
  },
  {
   "cell_type": "code",
   "execution_count": 10,
   "metadata": {},
   "outputs": [
    {
     "data": {
      "text/html": [
       "<div>\n",
       "<style scoped>\n",
       "    .dataframe tbody tr th:only-of-type {\n",
       "        vertical-align: middle;\n",
       "    }\n",
       "\n",
       "    .dataframe tbody tr th {\n",
       "        vertical-align: top;\n",
       "    }\n",
       "\n",
       "    .dataframe thead th {\n",
       "        text-align: right;\n",
       "    }\n",
       "</style>\n",
       "<table border=\"1\" class=\"dataframe\">\n",
       "  <thead>\n",
       "    <tr style=\"text-align: right;\">\n",
       "      <th></th>\n",
       "      <th>Query</th>\n",
       "      <th>ANG1</th>\n",
       "      <th>ANG2</th>\n",
       "      <th>ANG3</th>\n",
       "      <th>ANG4</th>\n",
       "      <th>R-factor</th>\n",
       "      <th>Study Temp.</th>\n",
       "      <th>ANG_MEAN</th>\n",
       "    </tr>\n",
       "    <tr>\n",
       "      <th>Refcode</th>\n",
       "      <th></th>\n",
       "      <th></th>\n",
       "      <th></th>\n",
       "      <th></th>\n",
       "      <th></th>\n",
       "      <th></th>\n",
       "      <th></th>\n",
       "      <th></th>\n",
       "    </tr>\n",
       "  </thead>\n",
       "  <tbody>\n",
       "    <tr>\n",
       "      <th>YIQQUK</th>\n",
       "      <td>1</td>\n",
       "      <td>89.407</td>\n",
       "      <td>90.511</td>\n",
       "      <td>91.372</td>\n",
       "      <td>88.691</td>\n",
       "      <td>3.08</td>\n",
       "      <td>296.0</td>\n",
       "      <td>89.99525</td>\n",
       "    </tr>\n",
       "  </tbody>\n",
       "</table>\n",
       "</div>"
      ],
      "text/plain": [
       "         Query    ANG1    ANG2    ANG3    ANG4  R-factor  Study Temp.  \\\n",
       "Refcode                                                                 \n",
       "YIQQUK       1  89.407  90.511  91.372  88.691      3.08        296.0   \n",
       "\n",
       "         ANG_MEAN  \n",
       "Refcode            \n",
       "YIQQUK   89.99525  "
      ]
     },
     "execution_count": 10,
     "metadata": {},
     "output_type": "execute_result"
    }
   ],
   "source": [
    "# Optional - extract and present this as a DataFrame\n",
    "rh_molecule_row = df_rh.loc[[rh_code]]\n",
    "rh_molecule_row"
   ]
  },
  {
   "cell_type": "code",
   "execution_count": 11,
   "metadata": {},
   "outputs": [
    {
     "data": {
      "text/html": [
       "<div>\n",
       "<style scoped>\n",
       "    .dataframe tbody tr th:only-of-type {\n",
       "        vertical-align: middle;\n",
       "    }\n",
       "\n",
       "    .dataframe tbody tr th {\n",
       "        vertical-align: top;\n",
       "    }\n",
       "\n",
       "    .dataframe thead th {\n",
       "        text-align: right;\n",
       "    }\n",
       "</style>\n",
       "<table border=\"1\" class=\"dataframe\">\n",
       "  <thead>\n",
       "    <tr style=\"text-align: right;\">\n",
       "      <th></th>\n",
       "      <th>Query</th>\n",
       "      <th>ANG1</th>\n",
       "      <th>ANG2</th>\n",
       "      <th>ANG3</th>\n",
       "      <th>ANG4</th>\n",
       "      <th>R-factor</th>\n",
       "      <th>Study Temp.</th>\n",
       "      <th>ANG_MEAN</th>\n",
       "    </tr>\n",
       "    <tr>\n",
       "      <th>Refcode</th>\n",
       "      <th></th>\n",
       "      <th></th>\n",
       "      <th></th>\n",
       "      <th></th>\n",
       "      <th></th>\n",
       "      <th></th>\n",
       "      <th></th>\n",
       "      <th></th>\n",
       "    </tr>\n",
       "  </thead>\n",
       "  <tbody>\n",
       "    <tr>\n",
       "      <th>ZOJPUJ01</th>\n",
       "      <td>2</td>\n",
       "      <td>97.016</td>\n",
       "      <td>107.569</td>\n",
       "      <td>97.501</td>\n",
       "      <td>106.162</td>\n",
       "      <td>4.95</td>\n",
       "      <td>100.0</td>\n",
       "      <td>102.06200</td>\n",
       "    </tr>\n",
       "    <tr>\n",
       "      <th>ICAYES</th>\n",
       "      <td>2</td>\n",
       "      <td>116.386</td>\n",
       "      <td>109.928</td>\n",
       "      <td>113.829</td>\n",
       "      <td>104.237</td>\n",
       "      <td>2.24</td>\n",
       "      <td>100.0</td>\n",
       "      <td>111.09500</td>\n",
       "    </tr>\n",
       "    <tr>\n",
       "      <th>ZABVIK</th>\n",
       "      <td>2</td>\n",
       "      <td>96.312</td>\n",
       "      <td>86.190</td>\n",
       "      <td>82.377</td>\n",
       "      <td>95.208</td>\n",
       "      <td>3.48</td>\n",
       "      <td>130.0</td>\n",
       "      <td>90.02175</td>\n",
       "    </tr>\n",
       "  </tbody>\n",
       "</table>\n",
       "</div>"
      ],
      "text/plain": [
       "          Query     ANG1     ANG2     ANG3     ANG4  R-factor  Study Temp.  \\\n",
       "Refcode                                                                      \n",
       "ZOJPUJ01      2   97.016  107.569   97.501  106.162      4.95        100.0   \n",
       "ICAYES        2  116.386  109.928  113.829  104.237      2.24        100.0   \n",
       "ZABVIK        2   96.312   86.190   82.377   95.208      3.48        130.0   \n",
       "\n",
       "           ANG_MEAN  \n",
       "Refcode              \n",
       "ZOJPUJ01  102.06200  \n",
       "ICAYES    111.09500  \n",
       "ZABVIK     90.02175  "
      ]
     },
     "execution_count": 11,
     "metadata": {},
     "output_type": "execute_result"
    }
   ],
   "source": [
    "# Optional - extract and present this as a DataFrame\n",
    "co_molecule_rows = df_co.loc[co_codes]\n",
    "co_molecule_rows"
   ]
  },
  {
   "cell_type": "markdown",
   "metadata": {},
   "source": [
    "**Discussion:**\n",
    "\n",
    "- \"YIQQUK\" - based on the mean angle of $90.0^\\circ$, this is most likely square planar. This is also part of the Rhodium sample which seems to be predominantly square planar based on the overall distribution.\n",
    " - \"ZOJPUJ01\" - even though the mean angle of $102.1^\\circ$ is between the two ideal systems, this is more likely to be tetrahedral based on the distribution of angles within the Cobalt sample shown above.\n",
    " - \"ICAYES\" - based on the mean angle of $111.1^\\circ$ this is most likely tetrahedral when compared with the ideal angle of $109.5^\\circ$.\n",
    " - \"ZABVIK\" - based on the mean angle of $90.0^\\circ$ this is most likely to be square planar when compared with the ideal angle of $90.0^\\circ$."
   ]
  },
  {
   "cell_type": "markdown",
   "metadata": {},
   "source": [
    "***2. For the Cobalt (Co) data, add a column predicting whether the most likely shape of each molecule (row) is Square planar.***\n",
    "   - Based on your analysis so far, choose a cut off value for your bond angle (individual or mean) below which you may expect the most likely shape to be Square planar.\n",
    "   - Create a new column indicating whether each molecule (row) is predicted to be \"square planar\" (e.g. containing True/False values).\n",
    "   - Check this aligns with your predictions in the previous question."
   ]
  },
  {
   "cell_type": "code",
   "execution_count": 12,
   "metadata": {},
   "outputs": [
    {
     "data": {
      "text/html": [
       "<div>\n",
       "<style scoped>\n",
       "    .dataframe tbody tr th:only-of-type {\n",
       "        vertical-align: middle;\n",
       "    }\n",
       "\n",
       "    .dataframe tbody tr th {\n",
       "        vertical-align: top;\n",
       "    }\n",
       "\n",
       "    .dataframe thead th {\n",
       "        text-align: right;\n",
       "    }\n",
       "</style>\n",
       "<table border=\"1\" class=\"dataframe\">\n",
       "  <thead>\n",
       "    <tr style=\"text-align: right;\">\n",
       "      <th></th>\n",
       "      <th>Query</th>\n",
       "      <th>ANG1</th>\n",
       "      <th>ANG2</th>\n",
       "      <th>ANG3</th>\n",
       "      <th>ANG4</th>\n",
       "      <th>R-factor</th>\n",
       "      <th>Study Temp.</th>\n",
       "      <th>ANG_MEAN</th>\n",
       "      <th>square_planar</th>\n",
       "    </tr>\n",
       "    <tr>\n",
       "      <th>Refcode</th>\n",
       "      <th></th>\n",
       "      <th></th>\n",
       "      <th></th>\n",
       "      <th></th>\n",
       "      <th></th>\n",
       "      <th></th>\n",
       "      <th></th>\n",
       "      <th></th>\n",
       "      <th></th>\n",
       "    </tr>\n",
       "  </thead>\n",
       "  <tbody>\n",
       "    <tr>\n",
       "      <th>ABEBUG</th>\n",
       "      <td>2</td>\n",
       "      <td>107.775</td>\n",
       "      <td>104.241</td>\n",
       "      <td>106.684</td>\n",
       "      <td>115.986</td>\n",
       "      <td>2.92</td>\n",
       "      <td>150.0</td>\n",
       "      <td>108.67150</td>\n",
       "      <td>False</td>\n",
       "    </tr>\n",
       "    <tr>\n",
       "      <th>ABECER</th>\n",
       "      <td>2</td>\n",
       "      <td>119.168</td>\n",
       "      <td>107.584</td>\n",
       "      <td>103.463</td>\n",
       "      <td>105.580</td>\n",
       "      <td>4.86</td>\n",
       "      <td>150.0</td>\n",
       "      <td>108.94875</td>\n",
       "      <td>False</td>\n",
       "    </tr>\n",
       "    <tr>\n",
       "      <th>ABECIV</th>\n",
       "      <td>2</td>\n",
       "      <td>109.473</td>\n",
       "      <td>104.126</td>\n",
       "      <td>109.126</td>\n",
       "      <td>120.683</td>\n",
       "      <td>3.33</td>\n",
       "      <td>150.0</td>\n",
       "      <td>110.85200</td>\n",
       "      <td>False</td>\n",
       "    </tr>\n",
       "    <tr>\n",
       "      <th>ADABUF</th>\n",
       "      <td>2</td>\n",
       "      <td>119.241</td>\n",
       "      <td>116.939</td>\n",
       "      <td>106.037</td>\n",
       "      <td>96.050</td>\n",
       "      <td>2.90</td>\n",
       "      <td>100.0</td>\n",
       "      <td>109.56675</td>\n",
       "      <td>False</td>\n",
       "    </tr>\n",
       "    <tr>\n",
       "      <th>ADACIU</th>\n",
       "      <td>2</td>\n",
       "      <td>90.496</td>\n",
       "      <td>90.187</td>\n",
       "      <td>90.369</td>\n",
       "      <td>89.367</td>\n",
       "      <td>3.86</td>\n",
       "      <td>100.0</td>\n",
       "      <td>90.10475</td>\n",
       "      <td>True</td>\n",
       "    </tr>\n",
       "    <tr>\n",
       "      <th>...</th>\n",
       "      <td>...</td>\n",
       "      <td>...</td>\n",
       "      <td>...</td>\n",
       "      <td>...</td>\n",
       "      <td>...</td>\n",
       "      <td>...</td>\n",
       "      <td>...</td>\n",
       "      <td>...</td>\n",
       "      <td>...</td>\n",
       "    </tr>\n",
       "    <tr>\n",
       "      <th>ZOZGAW</th>\n",
       "      <td>2</td>\n",
       "      <td>96.763</td>\n",
       "      <td>121.109</td>\n",
       "      <td>96.763</td>\n",
       "      <td>120.812</td>\n",
       "      <td>3.34</td>\n",
       "      <td>295.0</td>\n",
       "      <td>108.86175</td>\n",
       "      <td>False</td>\n",
       "    </tr>\n",
       "    <tr>\n",
       "      <th>ZZZBLD01</th>\n",
       "      <td>2</td>\n",
       "      <td>120.941</td>\n",
       "      <td>96.174</td>\n",
       "      <td>118.148</td>\n",
       "      <td>96.179</td>\n",
       "      <td>3.51</td>\n",
       "      <td>296.0</td>\n",
       "      <td>107.86050</td>\n",
       "      <td>False</td>\n",
       "    </tr>\n",
       "    <tr>\n",
       "      <th>ZZZVBA01</th>\n",
       "      <td>2</td>\n",
       "      <td>95.435</td>\n",
       "      <td>116.914</td>\n",
       "      <td>95.435</td>\n",
       "      <td>116.914</td>\n",
       "      <td>2.48</td>\n",
       "      <td>153.0</td>\n",
       "      <td>106.17450</td>\n",
       "      <td>False</td>\n",
       "    </tr>\n",
       "    <tr>\n",
       "      <th>ZZZVBA02</th>\n",
       "      <td>2</td>\n",
       "      <td>95.461</td>\n",
       "      <td>116.899</td>\n",
       "      <td>95.461</td>\n",
       "      <td>116.899</td>\n",
       "      <td>2.72</td>\n",
       "      <td>293.0</td>\n",
       "      <td>106.18000</td>\n",
       "      <td>False</td>\n",
       "    </tr>\n",
       "    <tr>\n",
       "      <th>ZZZWQS01</th>\n",
       "      <td>2</td>\n",
       "      <td>113.713</td>\n",
       "      <td>104.916</td>\n",
       "      <td>104.916</td>\n",
       "      <td>113.713</td>\n",
       "      <td>4.95</td>\n",
       "      <td>200.0</td>\n",
       "      <td>109.31450</td>\n",
       "      <td>False</td>\n",
       "    </tr>\n",
       "  </tbody>\n",
       "</table>\n",
       "<p>1322 rows × 9 columns</p>\n",
       "</div>"
      ],
      "text/plain": [
       "          Query     ANG1     ANG2     ANG3     ANG4  R-factor  Study Temp.  \\\n",
       "Refcode                                                                      \n",
       "ABEBUG        2  107.775  104.241  106.684  115.986      2.92        150.0   \n",
       "ABECER        2  119.168  107.584  103.463  105.580      4.86        150.0   \n",
       "ABECIV        2  109.473  104.126  109.126  120.683      3.33        150.0   \n",
       "ADABUF        2  119.241  116.939  106.037   96.050      2.90        100.0   \n",
       "ADACIU        2   90.496   90.187   90.369   89.367      3.86        100.0   \n",
       "...         ...      ...      ...      ...      ...       ...          ...   \n",
       "ZOZGAW        2   96.763  121.109   96.763  120.812      3.34        295.0   \n",
       "ZZZBLD01      2  120.941   96.174  118.148   96.179      3.51        296.0   \n",
       "ZZZVBA01      2   95.435  116.914   95.435  116.914      2.48        153.0   \n",
       "ZZZVBA02      2   95.461  116.899   95.461  116.899      2.72        293.0   \n",
       "ZZZWQS01      2  113.713  104.916  104.916  113.713      4.95        200.0   \n",
       "\n",
       "           ANG_MEAN  square_planar  \n",
       "Refcode                             \n",
       "ABEBUG    108.67150          False  \n",
       "ABECER    108.94875          False  \n",
       "ABECIV    110.85200          False  \n",
       "ADABUF    109.56675          False  \n",
       "ADACIU     90.10475           True  \n",
       "...             ...            ...  \n",
       "ZOZGAW    108.86175          False  \n",
       "ZZZBLD01  107.86050          False  \n",
       "ZZZVBA01  106.17450          False  \n",
       "ZZZVBA02  106.18000          False  \n",
       "ZZZWQS01  109.31450          False  \n",
       "\n",
       "[1322 rows x 9 columns]"
      ]
     },
     "execution_count": 12,
     "metadata": {},
     "output_type": "execute_result"
    }
   ],
   "source": [
    "cutoff = 95\n",
    "square_planar = df_co[\"ANG_MEAN\"] < cutoff\n",
    "df_co[\"square_planar\"] = square_planar\n",
    "df_co"
   ]
  },
  {
   "cell_type": "code",
   "execution_count": 13,
   "metadata": {},
   "outputs": [
    {
     "data": {
      "text/plain": [
       "True"
      ]
     },
     "execution_count": 13,
     "metadata": {},
     "output_type": "execute_result"
    }
   ],
   "source": [
    "df_co.loc[\"ZABVIK\"][\"square_planar\"]"
   ]
  },
  {
   "cell_type": "code",
   "execution_count": 14,
   "metadata": {},
   "outputs": [
    {
     "data": {
      "text/plain": [
       "False"
      ]
     },
     "execution_count": 14,
     "metadata": {},
     "output_type": "execute_result"
    }
   ],
   "source": [
    "df_co.loc[\"ZOJPUJ01\"][\"square_planar\"]"
   ]
  },
  {
   "cell_type": "markdown",
   "metadata": {},
   "source": [
    "This aligns with the predictions made above."
   ]
  },
  {
   "cell_type": "markdown",
   "metadata": {},
   "source": [
    "---"
   ]
  }
 ],
 "metadata": {
  "celltoolbar": "Create Assignment",
  "kernelspec": {
   "display_name": "Python 3",
   "language": "python",
   "name": "python3"
  },
  "language_info": {
   "codemirror_mode": {
    "name": "ipython",
    "version": 3
   },
   "file_extension": ".py",
   "mimetype": "text/x-python",
   "name": "python",
   "nbconvert_exporter": "python",
   "pygments_lexer": "ipython3",
   "version": "3.8.5"
  }
 },
 "nbformat": 4,
 "nbformat_minor": 4
}
