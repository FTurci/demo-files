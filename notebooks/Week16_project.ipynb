{
 "cells": [
  {
   "cell_type": "markdown",
   "metadata": {
    "editable": true,
    "nbgrader": {
     "grade": false,
     "grade_id": "cell-ac15007ac367d98b",
     "locked": true,
     "schema_version": 3,
     "solution": false,
     "task": false
    },
    "slideshow": {
     "slide_type": ""
    },
    "tags": [
     "old"
    ]
   },
   "source": [
    "# Project 3\n",
    "\n",
    "## Examining the geometry of molecules"
   ]
  },
  {
   "cell_type": "markdown",
   "metadata": {
    "editable": true,
    "nbgrader": {
     "grade": false,
     "grade_id": "cell-b1ee92f41d6817d6",
     "locked": true,
     "schema_version": 3,
     "solution": false,
     "task": false
    },
    "slideshow": {
     "slide_type": ""
    },
    "tags": []
   },
   "source": [
    "Note that this project does not require any specialist knowledge of Chemistry. It is about simple geometry and tests your data analysis skills. A key skill of data scientists is to apply their data analysis techniques to unfamiliar situations.\n",
    "\n",
    "Molecular geometry is the three-dimensional arrangement of atoms within a molecule. This geometry is often described by considering the lengths and angles of the bonds within the system. If we consider a central atom with 4 bonds to other atoms / molecules these are two of the three-dimensional shapes this system could take:\n",
    "\n",
    "Square Planar\n",
    "\n",
    "![Square planar](Square-planar-shape-with-angle.png)\n",
    "\n",
    "Tetrahedral\n",
    "\n",
    "![Tetrahedral](Tetrahedral-shape-with-angle.png)\n",
    "\n",
    "Both the Square Planar and Tetrahedral shapes are symmetric under rotation and in an ideal system:\n",
    " - For the square planar shape, each of the four bonds (along the plane) has an angle of $90^{\\mathrm{o}}$\n",
    " - For the tetrahedral shape, each of the four bonds has an angle of $109.5^{\\mathrm{o}}$"
   ]
  },
  {
   "cell_type": "markdown",
   "metadata": {
    "editable": true,
    "nbgrader": {
     "grade": false,
     "grade_id": "cell-5ebd6bb3bf52ddce",
     "locked": true,
     "schema_version": 3,
     "solution": false,
     "task": false
    },
    "slideshow": {
     "slide_type": ""
    },
    "tags": []
   },
   "source": [
    "### Data files\n",
    "\n",
    "For this project, we have provided two data files containing the measured bond angles for different systems with a central atom and four surrounding bonds (to other atoms or molecules).\n",
    "1. With Rhodium (Rh) as the central atom\n",
    "2. With Cobalt (Co) as the central atom\n",
    "\n",
    "In both cases, we expect the majority of these systems to be either Square Planar (angles of $90^{\\mathrm{o}}$) or Tetrahedral (angles of $109.5^{\\mathrm{o}}$) in shape.\n",
    "\n",
    "First 5 rows of \"Rh_CN4-molecules.csv\"\n",
    "```\n",
    "# Missing entries are shown as -999 value.\n",
    "Query,Refcode,ANG1,ANG2,ANG3,ANG4,R-factor,Study Temp.\n",
    "1,ABANEX,86.286,91.877,91.402,90.744,4.110,150\n",
    "1,ABEJIA,98.505,100.045,83.356,79.567,4.160,120\n",
    "1,ABEJOG,100.686,99.261,78.550,82.795,3.910,120\n",
    "```\n",
    "\n",
    "First 5 rows of \"Co_CN4-molecules.csv\"\n",
    "```\n",
    "# Missing entries are shown as -999 value.\n",
    "Query,Refcode,ANG1,ANG2,ANG3,ANG4,R-factor,Study Temp.\n",
    "2,ABEBUG,107.775,104.241,106.684,115.986,2.920,150\n",
    "2,ABECER,119.168,107.584,103.463,105.580,4.860,150\n",
    "2,ABECIV,109.473,104.126,109.126,120.683,3.330,150\n",
    "```\n",
    "\n",
    "Column details:\n",
    " - \"Query\" - Database query number (*can be ignored*)\n",
    " - \"Refcode\" - Reference code for the molecular structure\n",
    " - \"ANG1\", \"ANG2\", \"ANG3\", \"ANG4\" - Values in degrees for each of the four bond angles\n",
    " - \"R-factor\" - Reliability factor. This is a measure of the quality of the data where a lower value is better\n",
    " - \"Study Temp.\" - Temperature used when completing the measurements."
   ]
  },
  {
   "cell_type": "code",
   "execution_count": 4,
   "metadata": {
    "editable": true,
    "nbgrader": {
     "grade": false,
     "grade_id": "cell-40a1d44418199bee",
     "locked": true,
     "schema_version": 3,
     "solution": false,
     "task": false
    },
    "slideshow": {
     "slide_type": ""
    },
    "tags": []
   },
   "outputs": [],
   "source": [
    "filename_Rh = \"../csv/molecules/Rh_CN4-molecules.csv\"\n",
    "filename_Co = \"../csv/molecules/Co_CN4-molecules.csv\""
   ]
  },
  {
   "cell_type": "markdown",
   "metadata": {},
   "source": [
    "---"
   ]
  },
  {
   "cell_type": "markdown",
   "metadata": {
    "nbgrader": {
     "grade": false,
     "grade_id": "cell-e2765c28d50580f3",
     "locked": true,
     "points": 8,
     "schema_version": 3,
     "solution": false,
     "task": true
    },
    "tags": [
     "old"
    ]
   },
   "source": [
    "### Programming project\n",
    "\n",
    "The aim of this project is to see how well these two different molecular shapes (Square Planar and Tetrahedral) can be distinguished within this data.\n",
    "\n",
    "Start by reading in the data from `filename_Rh` and `filename_Co` and then create the following outputs:\n",
    "\n",
    "- The mean and standard deviation of the first bond angle (\"ANG1\") for both data sets\n",
    "   - Make a comparison of these values to the expected angles for the ideal case ($90^{\\mathrm{o}}$ for Square Planar and $109.5^{\\mathrm{o}}$ for the Tetrahederal shape).\n",
    "- For each entry, calculate the average bond angle across all four of the bonds (\"ANG1\", \"ANG2\", \"ANG3\", \"ANG4\") (i.e. total divided by 4)\n",
    "- From these data sets, create at least one plot to compare the distribution of these bond angles\n",
    "\n",
    "Based on the analysis above, from the two options discussed comment on which would be the most likely shape for the molecules with the following \"Refcode\" values:\n",
    "   - \"YIQQUK\" (Rh)\n",
    "   - \"ZOJPUJ01\" (Co)\n",
    "   - \"ICAYES\" (Co)\n",
    "   - \"ZABVIK\" (Co)\n",
    "   \n",
    "*Make sure to consider the following*\n",
    " - How the data files are laid out and how best to read the data\n",
    " - How to handle any missing data"
   ]
  },
  {
   "cell_type": "markdown",
   "metadata": {
    "nbgrader": {
     "grade": false,
     "grade_id": "cell-24c4ac5300b07f46",
     "locked": true,
     "points": 6,
     "schema_version": 3,
     "solution": false,
     "task": true
    }
   },
   "source": [
    "#### Approach\n",
    "\n",
    "Consider your overall approach, layout and naming convention used within your code. Make sure to explain what you are doing at each stage (add comments and/or additional markdown cells). Consider what you could add to the analysis described above to build upon your conclusions."
   ]
  },
  {
   "cell_type": "markdown",
   "metadata": {
    "nbgrader": {
     "grade": false,
     "grade_id": "cell-5ab568f19a31977a",
     "locked": true,
     "points": 6,
     "schema_version": 3,
     "solution": false,
     "task": true
    }
   },
   "source": [
    "For your plot (or plots), consider how best to present the output. Consider how this would look as as a standalone product without the context of the code."
   ]
  },
  {
   "cell_type": "markdown",
   "metadata": {
    "nbgrader": {
     "grade": false,
     "grade_id": "cell-80262caf49365d92",
     "locked": true,
     "schema_version": 3,
     "solution": false,
     "task": false
    }
   },
   "source": [
    "More code and markdown cells can be added below as required (\"Insert\" --> \"Cell Above\" or \"Cell Below\")"
   ]
  },
  {
   "cell_type": "markdown",
   "metadata": {},
   "source": [
    "# Task 1\n",
    "\n",
    "Using `pandas` Read the `csv` datasets into two variables named\n",
    "\n",
    "- `df_rh`\n",
    "- `df_co`\n",
    "\n",
    "Be careful that some data are not valid and are marked with the value `-999`. Exclude them.\n",
    "\n",
    "Also, index the dataframe using the `Refcode` column."
   ]
  },
  {
   "cell_type": "code",
   "execution_count": 5,
   "metadata": {
    "editable": true,
    "nbgrader": {
     "grade": false,
     "grade_id": "cell-e8fd6abdb490a6b0",
     "locked": false,
     "schema_version": 3,
     "solution": true,
     "task": false
    },
    "slideshow": {
     "slide_type": ""
    },
    "tags": []
   },
   "outputs": [],
   "source": [
    "### BEGIN SOLUTION\n",
    "import pandas as pd\n",
    "\n",
    "# Read in data and take account of na_values. Set index to \"Refcode\" (optional but helps later on)\n",
    "df_rh = pd.read_csv(filename_Rh, skiprows=1, na_values=\"-999\", index_col=\"Refcode\")\n",
    "df_co = pd.read_csv(filename_Co, skiprows=1, na_values=\"-999\", index_col=\"Refcode\")\n",
    "\n",
    "###END SOLUTION"
   ]
  },
  {
   "cell_type": "code",
   "execution_count": 9,
   "metadata": {},
   "outputs": [],
   "source": [
    "assert df_rh.equals(pd.read_csv(filename_Rh, skiprows=1, na_values=\"-999\", index_col=\"Refcode\")),f\" The dataframe has not been read correctly\"\n",
    "assert df_co.equals(pd.read_csv(filename_Co, skiprows=1, na_values=\"-999\", index_col=\"Refcode\")),f\" The dataframe has not been read correctly\""
   ]
  },
  {
   "cell_type": "code",
   "execution_count": null,
   "metadata": {},
   "outputs": [],
   "source": [
    "\n",
    "# Calculate mean and standard deviation\n",
    "angle_mean_rh = df_rh[\"ANG1\"].mean()\n",
    "angle_std_rh = df_rh[\"ANG1\"].std()\n",
    "\n",
    "angle_mean_co = df_co[\"ANG1\"].mean()\n",
    "angle_std_co = df_co[\"ANG1\"].std()\n",
    "\n",
    "comparison_dict = {\"Mean\":[angle_mean_rh, angle_mean_co], \"Standard deviation\": [angle_std_rh, angle_std_co]}\n"
   ]
  },
  {
   "cell_type": "code",
   "execution_count": null,
   "metadata": {},
   "outputs": [],
   "source": [
    "\n",
    "# Check difference between these values and the ideal solutions\n",
    "square_planar = 90\n",
    "tetrahedral = 109.5\n"
   ]
  },
  {
   "cell_type": "code",
   "execution_count": null,
   "metadata": {},
   "outputs": [],
   "source": [
    "\n",
    "# Calculate the differences from the expected angles\n",
    "diff_rh_square_planar = angle_mean_rh - square_planar\n",
    "diff_co_square_planar = angle_mean_co - square_planar\n",
    "\n",
    "diff_rh_tetrahedral = angle_mean_rh - tetrahedral\n",
    "diff_co_tetrahedral = angle_mean_co - tetrahedral\n",
    "\n",
    "comparison_dict[\"Square planar (diff)\"] = [diff_rh_square_planar, diff_co_square_planar]\n",
    "comparison_dict[\"Tetrahedral (diff)\"] = [diff_rh_tetrahedral, diff_co_tetrahedral]\n"
   ]
  },
  {
   "cell_type": "code",
   "execution_count": null,
   "metadata": {},
   "outputs": [],
   "source": [
    "\n",
    "# OPTIONAL - creating a DataFrame to display this in a nicely formatted table\n",
    "comparison_df = pd.DataFrame(comparison_dict, index=[\"Rh molecules\",\"Co molecules\"])\n",
    "comparison_df\n",
    "### END SOLUTION"
   ]
  },
  {
   "cell_type": "code",
   "execution_count": null,
   "metadata": {
    "nbgrader": {
     "grade": false,
     "grade_id": "cell-705bd45cf9e5db74",
     "locked": false,
     "schema_version": 3,
     "solution": true,
     "task": false
    }
   },
   "outputs": [],
   "source": [
    "### BEGIN SOLUTION\n",
    "# Calculate the Mean angle from the angle columns (and assign back to DataFrame)\n",
    "df_rh[\"ANG_MEAN\"] = (df_rh[\"ANG1\"] + df_rh[\"ANG2\"] + df_rh[\"ANG3\"] + df_rh[\"ANG4\"])/4.\n",
    "df_co[\"ANG_MEAN\"] = (df_co[\"ANG1\"] + df_co[\"ANG2\"] + df_co[\"ANG3\"] + df_co[\"ANG4\"])/4.\n",
    "\n",
    "print(df_co[\"ANG_MEAN\"].head())\n",
    "### END SOLUTION"
   ]
  },
  {
   "cell_type": "code",
   "execution_count": null,
   "metadata": {
    "nbgrader": {
     "grade": false,
     "grade_id": "cell-0e4753fd11e35559",
     "locked": false,
     "schema_version": 3,
     "solution": true,
     "task": false
    }
   },
   "outputs": [],
   "source": [
    "### BEGIN SOLUTION\n",
    "import matplotlib.pyplot as plt\n",
    "\n",
    "## Creating 2 panel plot - one for \"ANG1\" and one for \"ANG_MEAN\"\n",
    "# - Plotting these two histogram comparisons side by side since these are the quantities we have considered in this \n",
    "# analysis so far\n",
    "\n",
    "fig, ax_arr = plt.subplots(nrows=1, ncols=2, figsize=(12,6))\n",
    "\n",
    "ax_angle1 = ax_arr[0]\n",
    "ax_mean_angle = ax_arr[1]\n",
    "\n",
    "## Plot histograms for Rh vs Co for the first bond angle\n",
    "# - Choosing consistent number of bins for both inputs (Rh and Co)\n",
    "# - Plotting as a density to allow for a consistent comparison between Rh and Co\n",
    "# - Choosing histtype of \"step\" for overlapping histograms (could have chosen transparency)\n",
    "# - Making sure each data set is clearly labelled (legend)\n",
    "# - Labelling the axes (including LaTeX for superscript)\n",
    "\n",
    "num_bins=25\n",
    "\n",
    "df_rh.plot.hist(y=\"ANG1\", ax=ax_angle1, histtype=\"step\", density=True, bins=num_bins, label=\"Rh molecules\")\n",
    "df_co.plot.hist(y=\"ANG1\", ax=ax_angle1, histtype=\"step\", density=True, bins=num_bins, label=\"Co molecules\")\n",
    "\n",
    "ax_angle1.set_xlabel(\"Angle 1 ($^o$)\") # Label x axis\n",
    "\n",
    "## Plot histograms for Rh vs Co for the average bond angle\n",
    "# - Same decisions made for this plot\n",
    "\n",
    "df_rh.plot.hist(y=\"ANG_MEAN\", ax=ax_mean_angle, histtype=\"step\", density=True, bins=num_bins, label=\"Rh molecules\")\n",
    "df_co.plot.hist(y=\"ANG_MEAN\", ax=ax_mean_angle, histtype=\"step\", density=True, bins=num_bins, label=\"Co molecules\")\n",
    "\n",
    "ax_mean_angle.set_xlabel(\"Mean angle ($^o$)\") # Label x axis\n",
    "\n",
    "### END SOLUTION"
   ]
  },
  {
   "cell_type": "code",
   "execution_count": null,
   "metadata": {
    "nbgrader": {
     "grade": false,
     "grade_id": "cell-97753a8dc1cb33fc",
     "locked": false,
     "schema_version": 3,
     "solution": true,
     "task": false
    }
   },
   "outputs": [],
   "source": [
    "### BEGIN SOLUTION\n",
    "# Find the average angle (or other individual angle) related to the reference code values\n",
    "rh_codes = [\"YIQQUK\"]\n",
    "co_codes = [\"ZOJPUJ01\", \"ICAYES\", \"ZABVIK\"]\n",
    "\n",
    "ang_mean_rh_codes = df_rh[\"ANG_MEAN\"].loc[rh_codes]\n",
    "ang_mean_co_codes = df_co[\"ANG_MEAN\"].loc[co_codes]\n",
    "\n",
    "print(ang_mean_rh_codes)\n",
    "print(\"\\n\")\n",
    "print(ang_mean_co_codes)\n",
    "\n",
    "## From looking at these values\n",
    "# \"YIQQUK\" (Rh)   - 89.99525 - square planar\n",
    "# \"ZOJPUJ01\" (Co) - 102.06200 - in the middle but more likely to be tetrahedral based on the histogram split above\n",
    "# \"ICAYES\" (Co)   - 111.09500 - tetrahedral\n",
    "# \"ZABVIK\" (Co)   - 90.02175 - square planar\n",
    "\n",
    "### END SOLUTION"
   ]
  },
  {
   "cell_type": "code",
   "execution_count": null,
   "metadata": {
    "nbgrader": {
     "grade": false,
     "grade_id": "cell-4d9ecf674099a8e4",
     "locked": false,
     "schema_version": 3,
     "solution": true,
     "task": false
    }
   },
   "outputs": [],
   "source": [
    "### BEGIN SOLUTION\n",
    "\n",
    "## EXAMPLE OF FURTHER ANALYSIS - plotting these angle values on top of the histograms to see the comparison ###\n",
    "# Create 2 subplots to look at Rh and Co separately\n",
    "fig, ax_arr = plt.subplots(nrows=1, ncols=2, figsize=(12,6))\n",
    "\n",
    "ax_rh = ax_arr[0]\n",
    "ax_co = ax_arr[1]\n",
    "\n",
    "# Plot histograms for mean angle for Co and Rh on side-by-side plots\n",
    "bins=25\n",
    "df_rh.plot.hist(y=\"ANG_MEAN\", ax=ax_rh, histtype=\"step\", density=True, bins=bins, label=\"Rh molecules\")\n",
    "df_co.plot.hist(y=\"ANG_MEAN\", ax=ax_co, histtype=\"step\", density=True, bins=bins, label=\"Co molecules\")\n",
    "\n",
    "# Plot the mean angle for the reference codes within the Rh dataset\n",
    "y_arbitrary = [0.05]\n",
    "rh_angle_mean = df_rh[\"ANG_MEAN\"]\n",
    "for rh_code in rh_codes:\n",
    "    ax_rh.scatter(rh_angle_mean.loc[rh_code], y_arbitrary, label=rh_code, marker='x')\n",
    "\n",
    "# Plot the mean angle for the reference codes within the Co dataset  \n",
    "y_arbitrary = [0.01]\n",
    "co_angle_mean = df_co[\"ANG_MEAN\"]\n",
    "for co_code in co_codes:\n",
    "    ax_co.scatter(co_angle_mean.loc[co_code], y_arbitrary, label=co_code, marker='x')\n",
    "\n",
    "# Label x axis (using LaTeX for superscript)\n",
    "ax_co.set_xlabel(\"Mean angle ($^o$)\")\n",
    "ax_rh.set_xlabel(\"Mean angle ($^o$)\")\n",
    "\n",
    "# Making sure to display the legend so the reference code for each point is labelled\n",
    "ax_co.legend()\n",
    "ax_rh.legend()\n",
    "\n",
    "### END SOLUTION"
   ]
  },
  {
   "cell_type": "markdown",
   "metadata": {
    "nbgrader": {
     "grade": false,
     "grade_id": "cell-c71324033ebfc710",
     "locked": true,
     "schema_version": 3,
     "solution": false,
     "task": false
    }
   },
   "source": [
    "## Mark scheme\n",
    "\n",
    "This project is marked under the following categories:\n",
    "\n",
    "- Correct output (up to 40%)\n",
    "  - Has the student successfully read in the files, accounted for missing data, calculated appropriate quantities, created the appropriate visualisations, and derived correct classifications?\n",
    "\n",
    "- Code quality and methodology (up to 30%)\n",
    "  - Is the code well structured, clear and easy to understand, appropriately commented? Does it use the correct libraries and methods?\n",
    "  - Are there elements that go beyond the brief?\n",
    "\n",
    "- Presentation (up to 30%)\n",
    "  - Are the plot types appropriately chosen and are the plots clear, comprehensive and appropriately annotated and descibed?"
   ]
  }
 ],
 "metadata": {
  "celltoolbar": "Create Assignment",
  "kernelspec": {
   "display_name": "Python 3",
   "language": "python",
   "name": "python3"
  },
  "language_info": {
   "codemirror_mode": {
    "name": "ipython",
    "version": 3
   },
   "file_extension": ".py",
   "mimetype": "text/x-python",
   "name": "python",
   "nbconvert_exporter": "python",
   "pygments_lexer": "ipython3",
   "version": "3.11.1"
  }
 },
 "nbformat": 4,
 "nbformat_minor": 4
}
